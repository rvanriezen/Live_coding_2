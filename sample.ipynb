{
 "cells": [
  {
   "cell_type": "markdown",
   "id": "4f71ff5f-8c5a-4547-bba6-b4ba4ff21de0",
   "metadata": {},
   "source": [
    "Here is where I calculate \"1 + 1 \""
   ]
  },
  {
   "cell_type": "code",
   "execution_count": null,
   "id": "f78b453f-23f0-4166-89b1-2a28189f098d",
   "metadata": {},
   "outputs": [],
   "source": [
    "1+1"
   ]
  },
  {
   "cell_type": "code",
   "execution_count": 1,
   "id": "b2ec243f-4545-4342-87ea-a9be9150bfad",
   "metadata": {
    "jp-MarkdownHeadingCollapsed": true
   },
   "outputs": [],
   "source": [
    "### Walkthru sample notebook"
   ]
  },
  {
   "cell_type": "code",
   "execution_count": null,
   "id": "ebced901-4ac1-425e-ae20-6abb6bbeea6b",
   "metadata": {},
   "outputs": [],
   "source": [
    "Here is how I calculate '1+1'"
   ]
  },
  {
   "cell_type": "code",
   "execution_count": 2,
   "id": "323e097b-f815-4981-8269-3fd2c879381d",
   "metadata": {},
   "outputs": [
    {
     "data": {
      "text/plain": [
       "2"
      ]
     },
     "execution_count": 2,
     "metadata": {},
     "output_type": "execute_result"
    }
   ],
   "source": [
    "1+1"
   ]
  },
  {
   "cell_type": "code",
   "execution_count": 3,
   "id": "3cca9ba8-a79a-46bf-b1b7-d93908d6b315",
   "metadata": {},
   "outputs": [],
   "source": [
    "from numpy import *"
   ]
  },
  {
   "cell_type": "code",
   "execution_count": null,
   "id": "7d231f45-1d41-47ec-ab9d-f6f47c9a13f1",
   "metadata": {},
   "outputs": [],
   "source": [
    "Here is how I calculate sin:"
   ]
  },
  {
   "cell_type": "code",
   "execution_count": 5,
   "id": "1daa8d3c-7a5c-402a-b9a2-93ef979751be",
   "metadata": {},
   "outputs": [
    {
     "data": {
      "text/plain": [
       "array([0.84147098, 1.        ])"
      ]
     },
     "execution_count": 5,
     "metadata": {},
     "output_type": "execute_result"
    }
   ],
   "source": [
    "a = array([1.0, pi/2])\n",
    "sin(a)"
   ]
  },
  {
   "cell_type": "code",
   "execution_count": null,
   "id": "31a95172-1880-40c9-9306-7bebc777cee3",
   "metadata": {},
   "outputs": [],
   "source": []
  },
  {
   "cell_type": "code",
   "execution_count": null,
   "id": "b73d5149-4400-4213-89a6-6711f0579210",
   "metadata": {},
   "outputs": [],
   "source": []
  }
 ],
 "metadata": {
  "kernelspec": {
   "display_name": "Python 3 (ipykernel)",
   "language": "python",
   "name": "python3"
  },
  "language_info": {
   "codemirror_mode": {
    "name": "ipython",
    "version": 3
   },
   "file_extension": ".py",
   "mimetype": "text/x-python",
   "name": "python",
   "nbconvert_exporter": "python",
   "pygments_lexer": "ipython3",
   "version": "3.10.10"
  }
 },
 "nbformat": 4,
 "nbformat_minor": 5
}
